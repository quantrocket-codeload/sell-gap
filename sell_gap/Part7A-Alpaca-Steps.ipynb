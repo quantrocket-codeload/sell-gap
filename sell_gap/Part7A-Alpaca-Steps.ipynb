{
 "cells": [
  {
   "cell_type": "markdown",
   "metadata": {},
   "source": [
    "<a href=\"https://www.quantrocket.com\"><img alt=\"QuantRocket logo\" src=\"https://www.quantrocket.com/assets/img/notebook-header-logo.png\"></a>"
   ]
  },
  {
   "cell_type": "markdown",
   "metadata": {},
   "source": [
    "# Alpaca Steps\n",
    "\n",
    "To prepare for live trading with Alpaca, the following steps are required:\n",
    "\n",
    "* Collect listings from Alpaca\n",
    "* Create realtime database"
   ]
  },
  {
   "cell_type": "markdown",
   "metadata": {},
   "source": [
    "## Collect listings from Alpaca\n",
    "\n",
    "To place orders with Alpaca, it is necessary to collect securities master listings from Alpaca. It is not sufficient to have collected the listings from another vendor; specific Alpaca fields must be present in the securities master database in order to allow QuantRocket to communite with the Alpaca API."
   ]
  },
  {
   "cell_type": "code",
   "execution_count": 1,
   "metadata": {},
   "outputs": [
    {
     "data": {
      "text/plain": [
       "{'status': 'success', 'msg': 'successfully loaded alpaca securities'}"
      ]
     },
     "execution_count": 1,
     "metadata": {},
     "output_type": "execute_result"
    }
   ],
   "source": [
    "from quantrocket.master import collect_alpaca_listings\n",
    "collect_alpaca_listings()"
   ]
  },
  {
   "cell_type": "markdown",
   "metadata": {},
   "source": [
    "## Real-time database\n",
    "\n",
    "Next, create the real-time database for collecting data from Alpaca. These steps simply create the database. Real-time data collection will be initiated from the Zipline strategy code. First, create the tick database. Note that we are collecting minute-level data instead of ticks to reduce the data volume and increase the potential universe size. See the usage guide for more information."
   ]
  },
  {
   "cell_type": "code",
   "execution_count": 2,
   "metadata": {},
   "outputs": [
    {
     "data": {
      "text/plain": [
       "{'status': 'successfully created tick database us-stk-realtime'}"
      ]
     },
     "execution_count": 2,
     "metadata": {},
     "output_type": "execute_result"
    }
   ],
   "source": [
    "from quantrocket.realtime import create_alpaca_tick_db\n",
    "create_alpaca_tick_db(\n",
    "    \"us-stk-realtime\",\n",
    "    # specifying a universe is required, but we will override this when initiating data \n",
    "    # collection in the Zipline strategy, so the universe need not exist\n",
    "    universes=\"us-stk\",\n",
    "    fields=[\"MinuteOpen\",\n",
    "            \"MinuteHigh\",\n",
    "            \"MinuteLow\",\n",
    "            \"MinuteClose\",\n",
    "            \"MinuteVolume\"])"
   ]
  },
  {
   "cell_type": "markdown",
   "metadata": {},
   "source": [
    "Then create the 1-minute aggregate database derived from the tick database:"
   ]
  },
  {
   "cell_type": "code",
   "execution_count": 3,
   "metadata": {},
   "outputs": [
    {
     "data": {
      "text/plain": [
       "{'status': 'successfully created aggregate database us-stk-realtime-1min from tick database us-stk-realtime'}"
      ]
     },
     "execution_count": 3,
     "metadata": {},
     "output_type": "execute_result"
    }
   ],
   "source": [
    "from quantrocket.realtime import create_agg_db\n",
    "create_agg_db(\n",
    "    \"us-stk-realtime-1min\",\n",
    "    tick_db_code=\"us-stk-realtime\",\n",
    "    bar_size=\"1m\",\n",
    "    fields={\n",
    "        \"MinuteOpen\":[\"Open\"],\n",
    "        \"MinuteHigh\": [\"High\"],\n",
    "        \"MinuteLow\": [\"Low\"],\n",
    "        \"MinuteClose\": [\"Close\"],\n",
    "        \"MinuteVolume\": [\"Sum\"]})"
   ]
  },
  {
   "cell_type": "markdown",
   "metadata": {},
   "source": [
    "***\n",
    "\n",
    "## *Next Up*\n",
    "\n",
    "[Part 8: Account Allocation and Scheduling](Part8-Account-Allocation-and-Scheduling.ipynb)"
   ]
  }
 ],
 "metadata": {
  "kernelspec": {
   "display_name": "Python 3",
   "language": "python",
   "name": "python3"
  },
  "language_info": {
   "codemirror_mode": {
    "name": "ipython",
    "version": 3
   },
   "file_extension": ".py",
   "mimetype": "text/x-python",
   "name": "python",
   "nbconvert_exporter": "python",
   "pygments_lexer": "ipython3",
   "version": "3.8.3"
  }
 },
 "nbformat": 4,
 "nbformat_minor": 4
}
