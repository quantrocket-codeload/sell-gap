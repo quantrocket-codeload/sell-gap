{
 "cells": [
  {
   "cell_type": "markdown",
   "metadata": {},
   "source": [
    "<img alt=\"QuantRocket logo\" src=\"https://www.quantrocket.com/assets/img/notebook-header-logo.png\">\n",
    "\n",
    "<a href=\"https://www.quantrocket.com/disclaimer/\">Disclaimer</a>"
   ]
  },
  {
   "cell_type": "markdown",
   "metadata": {},
   "source": [
    "# Sell-on-Gap Zipline Strategy\n",
    "\n",
    "Intraday Zipline strategy for US stocks that sells stocks which gap below their moving average after previously trading above it. \n",
    "\n",
    "The strategy rules are as follows:\n",
    "\n",
    "* Universe Selection: \n",
    "    * Starting universe, top 10% of US stocks by dollar volume\n",
    "    * limit to stocks that closed above their 20-day moving average\n",
    "* Entry rules: \n",
    "    * Sell stocks that gap down at least 1 standard deviation and open below their 20-day moving average. Enter positions 10 minutes after the open.\n",
    "* Exit rules: \n",
    "    * Close positions 5 minutes before the close.\n"
   ]
  },
  {
   "cell_type": "markdown",
   "metadata": {},
   "source": [
    "*Historical Data Collection*\n",
    "\n",
    "* Part 1: [Historical Data Collection](Part1-Historical-Data-Collection.ipynb)\n",
    "\n",
    "*Research and Backtesting*\n",
    "\n",
    "* Part 2: [Universe Selection](Part2-Universe-Selection.ipynb)\n",
    "* Part 3: [Interactive Strategy Development](Part3-Interactive-Strategy-Development.ipynb)\n",
    "* Part 4: [Zipline Strategy Code](Part4-Zipline-Strategy-Code.ipynb)\n",
    "* Part 5: [Backtest](Part5-Backtest.ipynb)\n",
    "* Part 6: [Trade Inspection](Part6-Trade-Inspection.ipynb)\n",
    "\n",
    "*Live/Paper Trading*\n",
    "\n",
    "* Part 7: Broker-Specific Steps for Live Trading\n",
    "    * Part 7A: [Alpaca Steps](Part7A-Alpaca-Steps.ipynb)\n",
    "    * Part 7B: [Interactive Brokers Steps](Part7B-Interactive-Brokers-Steps.ipynb)\n",
    "* Part 8: [Account Allocation and Scheduling](Part8-Account-Allocation-and-Scheduling.ipynb)\n"
   ]
  }
 ],
 "metadata": {
  "kernelspec": {
   "display_name": "Python 3",
   "language": "python",
   "name": "python3"
  },
  "language_info": {
   "codemirror_mode": {
    "name": "ipython",
    "version": 3
   },
   "file_extension": ".py",
   "mimetype": "text/x-python",
   "name": "python",
   "nbconvert_exporter": "python",
   "pygments_lexer": "ipython3",
   "version": "3.8.3"
  }
 },
 "nbformat": 4,
 "nbformat_minor": 4
}
