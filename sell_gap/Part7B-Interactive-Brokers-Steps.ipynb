{
 "cells": [
  {
   "cell_type": "markdown",
   "metadata": {},
   "source": [
    "<img alt=\"QuantRocket logo\" src=\"https://www.quantrocket.com/assets/img/notebook-header-logo.png\">"
   ]
  },
  {
   "cell_type": "markdown",
   "metadata": {},
   "source": [
    "# Interactive Brokers Steps\n",
    "\n",
    "To prepare for live trading with Interactive Brokers, the following steps are required:\n",
    "\n",
    "* Collect listings from IBKR\n",
    "* Create realtime database\n",
    "* Specify an exchange when submitting orders"
   ]
  },
  {
   "cell_type": "markdown",
   "metadata": {},
   "source": [
    "## Collect listings from IBKR\n",
    "\n",
    "To place orders and/or collect real-time data through Interactive Brokers, it is necessary to collect securities master listings from Interactive Brokers. It is not sufficient to have collected the listings from another vendor; specific IBKR fields must be present in the securities master database in order to allow QuantRocket to communite with the IBKR API.\n",
    "\n",
    "First, start IB Gateway:"
   ]
  },
  {
   "cell_type": "code",
   "execution_count": 1,
   "metadata": {},
   "outputs": [
    {
     "data": {
      "text/plain": [
       "{'ibg1': {'status': 'running'}}"
      ]
     },
     "execution_count": 1,
     "metadata": {},
     "output_type": "execute_result"
    }
   ],
   "source": [
    "from quantrocket.ibg import start_gateways\n",
    "start_gateways(wait=True)"
   ]
  },
  {
   "cell_type": "markdown",
   "metadata": {},
   "source": [
    "Then collect the listings for all US stocks:"
   ]
  },
  {
   "cell_type": "code",
   "execution_count": 2,
   "metadata": {},
   "outputs": [
    {
     "data": {
      "text/plain": [
       "{'status': 'the IBKR listing details will be collected asynchronously'}"
      ]
     },
     "execution_count": 2,
     "metadata": {},
     "output_type": "execute_result"
    }
   ],
   "source": [
    "from quantrocket.master import collect_ibkr_listings\n",
    "collect_ibkr_listings(\n",
    "    exchanges=['NASDAQ', 'NYSE', 'AMEX', 'BATS', 'ARCA'], \n",
    "    sec_types=['STK']) # or STK and ETF if you need ETFs"
   ]
  },
  {
   "cell_type": "markdown",
   "metadata": {},
   "source": [
    "Monitor flightlog for completion, which may take several hours. (You can continue with the setup process while waiting for the listings collection to finish.)"
   ]
  },
  {
   "cell_type": "markdown",
   "metadata": {},
   "source": [
    "## Real-time database\n",
    "\n",
    "Next, create the real-time database. These steps simply create the database. Real-time data collection will be initiated from the Zipline strategy code. First, create the tick database:"
   ]
  },
  {
   "cell_type": "code",
   "execution_count": 3,
   "metadata": {},
   "outputs": [
    {
     "data": {
      "text/plain": [
       "{'status': 'successfully created tick database us-stk-realtime'}"
      ]
     },
     "execution_count": 3,
     "metadata": {},
     "output_type": "execute_result"
    }
   ],
   "source": [
    "from quantrocket.realtime import create_ibkr_tick_db\n",
    "create_ibkr_tick_db(\n",
    "    \"us-stk-realtime\", \n",
    "    # specifying a universe is required, but we will override this when initiating data \n",
    "    # collection in the Zipline strategy, so the universe need not exist\n",
    "    universes=\"us-stk\",\n",
    "    fields=[\"LastPrice\", \"LastSize\"]  \n",
    ")"
   ]
  },
  {
   "cell_type": "markdown",
   "metadata": {},
   "source": [
    "Then create the 1-minute aggregate database derived from the tick database:"
   ]
  },
  {
   "cell_type": "code",
   "execution_count": 4,
   "metadata": {},
   "outputs": [
    {
     "data": {
      "text/plain": [
       "{'status': 'successfully created aggregate database us-stk-realtime-1min from tick database us-stk-realtime'}"
      ]
     },
     "execution_count": 4,
     "metadata": {},
     "output_type": "execute_result"
    }
   ],
   "source": [
    "from quantrocket.realtime import create_agg_db\n",
    "create_agg_db(\n",
    "    \"us-stk-realtime-1min\",\n",
    "    tick_db_code=\"us-stk-realtime\",\n",
    "    bar_size=\"1m\",\n",
    "    fields={\n",
    "        \"LastPrice\":[\"Open\",\"High\",\"Low\",\"Close\"],\n",
    "        \"LastSize\": [\"Sum\"]})"
   ]
  },
  {
   "cell_type": "markdown",
   "metadata": {},
   "source": [
    "## Specify an exchange \n",
    "\n",
    "Unlike some brokers, Interactive Brokers requires that you specify an exchange when submitting orders. In the `sell-gap.py` file, find the block of code where orders are placed and add the `exchange` param, for example `exchange=\"SMART\"`: \n",
    "\n",
    "```python\n",
    "algo.order_value(\n",
    "    asset,\n",
    "    context.target_value_per_position,\n",
    "    style=MarketOrder(exchange=\"SMART\")\n",
    ")\n",
    "```\n",
    "\n",
    "Repeat this step for the block of code that places orders to close positions."
   ]
  },
  {
   "cell_type": "markdown",
   "metadata": {},
   "source": [
    "***\n",
    "\n",
    "## *Next Up*\n",
    "\n",
    "[Part 8: Account Allocation and Scheduling](Part8-Account-Allocation-and-Scheduling.ipynb)"
   ]
  }
 ],
 "metadata": {
  "kernelspec": {
   "display_name": "Python 3",
   "language": "python",
   "name": "python3"
  },
  "language_info": {
   "codemirror_mode": {
    "name": "ipython",
    "version": 3
   },
   "file_extension": ".py",
   "mimetype": "text/x-python",
   "name": "python",
   "nbconvert_exporter": "python",
   "pygments_lexer": "ipython3",
   "version": "3.7.6"
  }
 },
 "nbformat": 4,
 "nbformat_minor": 4
}
