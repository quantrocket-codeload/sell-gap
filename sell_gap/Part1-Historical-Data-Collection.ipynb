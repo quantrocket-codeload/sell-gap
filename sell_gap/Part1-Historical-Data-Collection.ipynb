{
 "cells": [
  {
   "cell_type": "markdown",
   "metadata": {},
   "source": [
    "<a href=\"https://www.quantrocket.com\"><img alt=\"QuantRocket logo\" src=\"https://www.quantrocket.com/assets/img/notebook-header-logo.png\"></a><br>\n",
    "<a href=\"https://www.quantrocket.com/disclaimer/\">Disclaimer</a>"
   ]
  },
  {
   "cell_type": "markdown",
   "metadata": {},
   "source": [
    "***\n",
    "[Sell-on-Gap Strategy](Introduction.ipynb) › Part 1: Data Collection\n",
    "***"
   ]
  },
  {
   "cell_type": "markdown",
   "metadata": {},
   "source": [
    "# Collect 1-minute US Stock Data\n",
    "\n",
    "Start by collecting 1-minute data for US stocks. Create a bundle called 'usstock-1min':"
   ]
  },
  {
   "cell_type": "code",
   "execution_count": 1,
   "metadata": {},
   "outputs": [
    {
     "data": {
      "text/plain": [
       "{'status': 'success', 'msg': 'successfully created usstock-1min bundle'}"
      ]
     },
     "execution_count": 1,
     "metadata": {},
     "output_type": "execute_result"
    }
   ],
   "source": [
    "from quantrocket.zipline import create_usstock_bundle\n",
    "create_usstock_bundle(\"usstock-1min\")"
   ]
  },
  {
   "cell_type": "markdown",
   "metadata": {},
   "source": [
    "Then ingest the data:"
   ]
  },
  {
   "cell_type": "code",
   "execution_count": 2,
   "metadata": {},
   "outputs": [
    {
     "data": {
      "text/plain": [
       "{'status': 'the data will be ingested asynchronously'}"
      ]
     },
     "execution_count": 2,
     "metadata": {},
     "output_type": "execute_result"
    }
   ],
   "source": [
    "from quantrocket.zipline import ingest_bundle\n",
    "ingest_bundle(\"usstock-1min\")"
   ]
  },
  {
   "cell_type": "markdown",
   "metadata": {},
   "source": [
    "Use flightlog to monitor the progress:\n",
    "\n",
    "```\n",
    "quantrocket.zipline: INFO [usstock-1min] Ingesting minute bars for 18638 securities in usstock-1min bundle\n",
    "quantrocket.zipline: INFO [usstock-1min] Ingesting daily bars for usstock-1min bundle\n",
    "quantrocket.zipline: INFO [usstock-1min] Ingesting adjustments for usstock-1min bundle\n",
    "quantrocket.zipline: INFO [usstock-1min] Ingesting assets for usstock-1min bundle\n",
    "quantrocket.zipline: INFO [usstock-1min] Completed ingesting data for 18638 securities in usstock-1min bundle\n",
    "```"
   ]
  },
  {
   "cell_type": "markdown",
   "metadata": {},
   "source": [
    "***\n",
    "\n",
    "## *Next Up*\n",
    "\n",
    "Part 2: [Universe Selection](Part2-Universe-Selection.ipynb)"
   ]
  }
 ],
 "metadata": {
  "kernelspec": {
   "display_name": "Python 3.9",
   "language": "python",
   "name": "python3"
  },
  "language_info": {
   "codemirror_mode": {
    "name": "ipython",
    "version": 3
   },
   "file_extension": ".py",
   "mimetype": "text/x-python",
   "name": "python",
   "nbconvert_exporter": "python",
   "pygments_lexer": "ipython3",
   "version": "3.9.7"
  }
 },
 "nbformat": 4,
 "nbformat_minor": 4
}
