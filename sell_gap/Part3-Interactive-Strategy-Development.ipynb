{
 "cells": [
  {
   "cell_type": "markdown",
   "metadata": {},
   "source": [
    "<img alt=\"QuantRocket logo\" src=\"https://www.quantrocket.com/assets/img/notebook-header-logo.png\">\n",
    "\n",
    "<a href=\"https://www.quantrocket.com/disclaimer/\">Disclaimer</a>"
   ]
  },
  {
   "cell_type": "markdown",
   "metadata": {},
   "source": [
    "# Interactive Strategy Development\n",
    "\n",
    "Before moving to a backtest, we can stay in a notebook a little longer and develop our code for identifying gaps. \n",
    "\n",
    "To start with, we import and re-run our pipeline from the previous notebook:"
   ]
  },
  {
   "cell_type": "code",
   "execution_count": 1,
   "metadata": {},
   "outputs": [],
   "source": [
    "from codeload.sell_gap.pipeline import make_pipeline\n",
    "from zipline.research import run_pipeline\n",
    "\n",
    "pipeline = make_pipeline()\n",
    "candidates = run_pipeline(pipeline, start_date=\"2020-01-01\", end_date=\"2020-08-15\")"
   ]
  },
  {
   "cell_type": "markdown",
   "metadata": {},
   "source": [
    "Then we select a particular day to look at in more detail:"
   ]
  },
  {
   "cell_type": "code",
   "execution_count": 2,
   "metadata": {},
   "outputs": [],
   "source": [
    "candidates = candidates.xs(\"2020-08-13\")"
   ]
  },
  {
   "cell_type": "markdown",
   "metadata": {},
   "source": [
    "And we load the corresponding data object as of 9:31 that day:\n",
    "\n",
    "> Note that in Zipline, bars contain data from the previous minute. The 9:31 bar contains the 09:30:00-09:30:59 OHLCV data. Thus, this bar contains the day's opening price."
   ]
  },
  {
   "cell_type": "code",
   "execution_count": 3,
   "metadata": {},
   "outputs": [],
   "source": [
    "from zipline.research import get_data\n",
    "data = get_data(\"2020-08-13 09:31:00\") "
   ]
  },
  {
   "cell_type": "markdown",
   "metadata": {},
   "source": [
    "We are looking for gaps where the opening price is at least 1 standard deviation below the prior day's low and is also below the 20-day moving average. Using the pipeline output and the data object, we identify the gaps:"
   ]
  },
  {
   "cell_type": "code",
   "execution_count": 4,
   "metadata": {},
   "outputs": [
    {
     "name": "stdout",
     "output_type": "stream",
     "text": [
      "                                  mavg  prior_low       std\n",
      "Equity(FIBBG000C3J3C9 [CSCO])  47.0665      47.27  1.127427\n"
     ]
    }
   ],
   "source": [
    "today_opens = data.current(candidates.index, 'open')\n",
    "prior_lows = candidates[\"prior_low\"]\n",
    "stds = candidates[\"std\"]\n",
    "\n",
    "# find stocks that opened sufficiently below the prior day's low...\n",
    "gapped_down = today_opens < (prior_lows - stds)\n",
    "\n",
    "# ...and are now below their moving averages\n",
    "are_below_mavg = (today_opens < candidates[\"mavg\"])\n",
    "\n",
    "assets_to_short = candidates[\n",
    "    gapped_down\n",
    "    & are_below_mavg\n",
    "    ]\n",
    "\n",
    "print(assets_to_short)"
   ]
  },
  {
   "cell_type": "markdown",
   "metadata": {},
   "source": [
    "On this particular day, CSCO gapped down. We can check the opening price and validate it against other sources to make sure our logic was correct:"
   ]
  },
  {
   "cell_type": "code",
   "execution_count": 5,
   "metadata": {},
   "outputs": [
    {
     "name": "stdout",
     "output_type": "stream",
     "text": [
      "Equity(FIBBG000C3J3C9 [CSCO])    43.79\n",
      "Name: open, dtype: float64\n"
     ]
    }
   ],
   "source": [
    "print(today_opens[assets_to_short.index])"
   ]
  },
  {
   "cell_type": "markdown",
   "metadata": {},
   "source": [
    "***\n",
    "\n",
    "## *Next Up*\n",
    "\n",
    "Part 4: [Zipline Strategy Code](Part4-Zipline-Strategy-Code.ipynb)"
   ]
  }
 ],
 "metadata": {
  "kernelspec": {
   "display_name": "Python 3",
   "language": "python",
   "name": "python3"
  },
  "language_info": {
   "codemirror_mode": {
    "name": "ipython",
    "version": 3
   },
   "file_extension": ".py",
   "mimetype": "text/x-python",
   "name": "python",
   "nbconvert_exporter": "python",
   "pygments_lexer": "ipython3",
   "version": "3.8.3"
  }
 },
 "nbformat": 4,
 "nbformat_minor": 4
}
