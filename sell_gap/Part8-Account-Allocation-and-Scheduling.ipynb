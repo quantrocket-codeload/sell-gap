{
 "cells": [
  {
   "cell_type": "markdown",
   "metadata": {},
   "source": [
    "<a href=\"https://www.quantrocket.com\"><img alt=\"QuantRocket logo\" src=\"https://www.quantrocket.com/assets/img/notebook-header-logo.png\"></a>"
   ]
  },
  {
   "cell_type": "markdown",
   "metadata": {},
   "source": [
    "# Account Allocation\n",
    "\n",
    "Before we can trade, we must allocate the strategy to one or more accounts. Open [quantrocket.zipline.allocations.yml](quantrocket.zipline.allocations.yml), edit the account number to match your live or paper brokerage account, and edit the capital base as desired.\n",
    "\n",
    "> Note: The capital base is mainly relevant for determining the number of shares to order when using `order_target_percent()`, which is not used in this strategy. However, a value must still must be set.\n",
    "\n",
    "Then install the file by moving it into the `/codeload` directory (i.e. top level of the Jupyter file browser)."
   ]
  },
  {
   "cell_type": "code",
   "execution_count": 1,
   "metadata": {},
   "outputs": [],
   "source": [
    "# move file over unless it already exists\n",
    "![ -e /codeload/quantrocket.zipline.allocations.y*ml ] && echo 'oops, the file already exists!' || mv quantrocket.zipline.allocations.yml /codeload/"
   ]
  },
  {
   "cell_type": "markdown",
   "metadata": {},
   "source": [
    "# Scheduling\n",
    "\n",
    "The last step is to schedule data to be collected and Zipline to run at the appropriate times. The commands to run are provided in [quantrocket.countdown.crontab.sh](quantrocket.countdown.crontab.sh). We collect updated data for the 1-minute US stock bundle each morning at 7:30 AM, and we start up the Zipline strategy at 9:29 AM."
   ]
  },
  {
   "cell_type": "markdown",
   "metadata": {},
   "source": [
    "All the commands on the provided crontab are intended to be run in New York time. By default, the countdown timezone is UTC:"
   ]
  },
  {
   "cell_type": "code",
   "execution_count": 2,
   "metadata": {},
   "outputs": [
    {
     "data": {
      "text/plain": [
       "{'timezone': 'Etc/UTC'}"
      ]
     },
     "execution_count": 2,
     "metadata": {},
     "output_type": "execute_result"
    }
   ],
   "source": [
    "from quantrocket.countdown import get_timezone, set_timezone\n",
    "get_timezone()"
   ]
  },
  {
   "cell_type": "markdown",
   "metadata": {},
   "source": [
    "So first, set the countdown timezone to New York time:"
   ]
  },
  {
   "cell_type": "code",
   "execution_count": 3,
   "metadata": {},
   "outputs": [
    {
     "data": {
      "text/plain": [
       "{'status': 'successfully set timezone to America/New_York'}"
      ]
     },
     "execution_count": 3,
     "metadata": {},
     "output_type": "execute_result"
    }
   ],
   "source": [
    "from quantrocket.countdown import set_timezone\n",
    "set_timezone(\"America/New_York\")"
   ]
  },
  {
   "cell_type": "markdown",
   "metadata": {},
   "source": [
    "Install the crontab by moving it to the /codeload directory. (First open a flightlog terminal so you can see if it loads successfully.)"
   ]
  },
  {
   "cell_type": "code",
   "execution_count": 4,
   "metadata": {},
   "outputs": [],
   "source": [
    "# move file over unless it already exists\n",
    "![ -e /codeload/quantrocket.countdown.crontab* ] && echo 'oops, the file already exists!' || mv quantrocket.countdown.crontab.sh /codeload/"
   ]
  },
  {
   "cell_type": "markdown",
   "metadata": {},
   "source": [
    "You should see a success message in flightlog:\n",
    "\n",
    "```\n",
    "quantrocket.countdown: INFO Successfully loaded quantrocket.countdown.crontab.sh\n",
    "```"
   ]
  },
  {
   "cell_type": "markdown",
   "metadata": {},
   "source": [
    "***\n",
    "\n",
    "[Back to Introduction](Introduction.ipynb)"
   ]
  }
 ],
 "metadata": {
  "kernelspec": {
   "display_name": "Python 3",
   "language": "python",
   "name": "python3"
  },
  "language_info": {
   "codemirror_mode": {
    "name": "ipython",
    "version": 3
   },
   "file_extension": ".py",
   "mimetype": "text/x-python",
   "name": "python",
   "nbconvert_exporter": "python",
   "pygments_lexer": "ipython3",
   "version": "3.8.3"
  }
 },
 "nbformat": 4,
 "nbformat_minor": 4
}
