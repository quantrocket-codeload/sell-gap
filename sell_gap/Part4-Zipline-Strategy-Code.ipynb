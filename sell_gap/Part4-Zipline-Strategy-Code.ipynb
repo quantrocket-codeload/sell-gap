{
 "cells": [
  {
   "cell_type": "markdown",
   "metadata": {},
   "source": [
    "<img alt=\"QuantRocket logo\" src=\"https://www.quantrocket.com/assets/img/notebook-header-logo.png\">\n",
    "\n",
    "<a href=\"https://www.quantrocket.com/disclaimer/\">Disclaimer</a>"
   ]
  },
  {
   "cell_type": "markdown",
   "metadata": {},
   "source": [
    "# Zipline Strategy Code"
   ]
  },
  {
   "cell_type": "markdown",
   "metadata": {},
   "source": [
    "The strategy code is provided in [sell-gap.py](sell-gap.py)."
   ]
  },
  {
   "cell_type": "markdown",
   "metadata": {},
   "source": [
    "## Install strategy file\n",
    "\n",
    "To \"install\" the strategy, execute the following cell to move the strategy file to the `/codeload/zipline` directory, where Zipline looks:"
   ]
  },
  {
   "cell_type": "code",
   "execution_count": 1,
   "metadata": {},
   "outputs": [],
   "source": [
    "# make directory if doesn't exist\n",
    "!mkdir -p /codeload/zipline\n",
    "\n",
    "!mv sell-gap.py /codeload/zipline/"
   ]
  },
  {
   "cell_type": "markdown",
   "metadata": {},
   "source": [
    "## Strategy overview\n",
    "\n",
    "A summary of functions in the strategy file is provided below:\n",
    "\n",
    "* In `make_pipeline()`, imported from our helper module created earlier, we define the pipeline using the code from our earlier notebook.\n",
    "* In `initialize()`, we attach the pipeline to the algo and schedule the custom functions `find_down_gaps`, `short_down_gaps`, and `close_positions`.\n",
    "* In `before_trading_start()`, we gather the pipeline output for the day and, in live trading, initiate real-time data collection. (We also instruct the real-time service to automatically cancel data collection at 9:32 AM, shortly after our strategy has checked the opening prices.)\n",
    "* In `find_down_gaps()`, which is scheduled to run at 9:31 AM, we identify stocks that gapped down and opened below their moving average.\n",
    "* In `short_down_gaps()`, which is scheduled to run at 9:40 AM, we short the stocks identified earlier.\n",
    "* In `close_positions()`, which is scheduled to run 5 minutes before the market closes, we place market orders to liquidate our positions."
   ]
  },
  {
   "cell_type": "markdown",
   "metadata": {},
   "source": [
    "***\n",
    "\n",
    "## *Next Up*\n",
    "\n",
    "Part 5: [Backtest](Part5-Backtest.ipynb)"
   ]
  }
 ],
 "metadata": {
  "kernelspec": {
   "display_name": "Python 3",
   "language": "python",
   "name": "python3"
  },
  "language_info": {
   "codemirror_mode": {
    "name": "ipython",
    "version": 3
   },
   "file_extension": ".py",
   "mimetype": "text/x-python",
   "name": "python",
   "nbconvert_exporter": "python",
   "pygments_lexer": "ipython3",
   "version": "3.7.6"
  }
 },
 "nbformat": 4,
 "nbformat_minor": 4
}
